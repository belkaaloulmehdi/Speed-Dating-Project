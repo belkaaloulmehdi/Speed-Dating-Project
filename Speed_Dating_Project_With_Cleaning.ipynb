{
 "cells": [
  {
   "cell_type": "markdown",
   "id": "3904fbb3",
   "metadata": {},
   "source": [
    "# Projet Speed Dating - Analyse et Modélisation\n",
    "Ce notebook contient l'analyse exploratoire des données de speed dating ainsi qu'un modèle prédictif pour estimer la probabilité d'obtenir un match en fonction des critères perçus."
   ]
  },
  {
   "cell_type": "code",
   "execution_count": 17,
   "id": "2e7f5651",
   "metadata": {},
   "outputs": [
    {
     "name": "stdout",
     "output_type": "stream",
     "text": [
      "<class 'pandas.core.frame.DataFrame'>\n",
      "RangeIndex: 8378 entries, 0 to 8377\n",
      "Columns: 195 entries, iid to amb5_3\n",
      "dtypes: float64(174), int64(13), object(8)\n",
      "memory usage: 12.5+ MB\n"
     ]
    },
    {
     "data": {
      "application/vnd.microsoft.datawrangler.viewer.v0+json": {
       "columns": [
        {
         "name": "index",
         "rawType": "int64",
         "type": "integer"
        },
        {
         "name": "iid",
         "rawType": "int64",
         "type": "integer"
        },
        {
         "name": "id",
         "rawType": "float64",
         "type": "float"
        },
        {
         "name": "gender",
         "rawType": "int64",
         "type": "integer"
        },
        {
         "name": "idg",
         "rawType": "int64",
         "type": "integer"
        },
        {
         "name": "condtn",
         "rawType": "int64",
         "type": "integer"
        },
        {
         "name": "wave",
         "rawType": "int64",
         "type": "integer"
        },
        {
         "name": "round",
         "rawType": "int64",
         "type": "integer"
        },
        {
         "name": "position",
         "rawType": "int64",
         "type": "integer"
        },
        {
         "name": "positin1",
         "rawType": "float64",
         "type": "float"
        },
        {
         "name": "order",
         "rawType": "int64",
         "type": "integer"
        },
        {
         "name": "partner",
         "rawType": "int64",
         "type": "integer"
        },
        {
         "name": "pid",
         "rawType": "float64",
         "type": "float"
        },
        {
         "name": "match",
         "rawType": "int64",
         "type": "integer"
        },
        {
         "name": "int_corr",
         "rawType": "float64",
         "type": "float"
        },
        {
         "name": "samerace",
         "rawType": "int64",
         "type": "integer"
        },
        {
         "name": "age_o",
         "rawType": "float64",
         "type": "float"
        },
        {
         "name": "race_o",
         "rawType": "float64",
         "type": "float"
        },
        {
         "name": "pf_o_att",
         "rawType": "float64",
         "type": "float"
        },
        {
         "name": "pf_o_sin",
         "rawType": "float64",
         "type": "float"
        },
        {
         "name": "pf_o_int",
         "rawType": "float64",
         "type": "float"
        },
        {
         "name": "pf_o_fun",
         "rawType": "float64",
         "type": "float"
        },
        {
         "name": "pf_o_amb",
         "rawType": "float64",
         "type": "float"
        },
        {
         "name": "pf_o_sha",
         "rawType": "float64",
         "type": "float"
        },
        {
         "name": "dec_o",
         "rawType": "int64",
         "type": "integer"
        },
        {
         "name": "attr_o",
         "rawType": "float64",
         "type": "float"
        },
        {
         "name": "sinc_o",
         "rawType": "float64",
         "type": "float"
        },
        {
         "name": "intel_o",
         "rawType": "float64",
         "type": "float"
        },
        {
         "name": "fun_o",
         "rawType": "float64",
         "type": "float"
        },
        {
         "name": "amb_o",
         "rawType": "float64",
         "type": "float"
        },
        {
         "name": "shar_o",
         "rawType": "float64",
         "type": "float"
        },
        {
         "name": "like_o",
         "rawType": "float64",
         "type": "float"
        },
        {
         "name": "prob_o",
         "rawType": "float64",
         "type": "float"
        },
        {
         "name": "met_o",
         "rawType": "float64",
         "type": "float"
        },
        {
         "name": "age",
         "rawType": "float64",
         "type": "float"
        },
        {
         "name": "field",
         "rawType": "object",
         "type": "string"
        },
        {
         "name": "field_cd",
         "rawType": "float64",
         "type": "float"
        },
        {
         "name": "undergra",
         "rawType": "object",
         "type": "unknown"
        },
        {
         "name": "mn_sat",
         "rawType": "object",
         "type": "unknown"
        },
        {
         "name": "tuition",
         "rawType": "object",
         "type": "unknown"
        },
        {
         "name": "race",
         "rawType": "float64",
         "type": "float"
        },
        {
         "name": "imprace",
         "rawType": "float64",
         "type": "float"
        },
        {
         "name": "imprelig",
         "rawType": "float64",
         "type": "float"
        },
        {
         "name": "from",
         "rawType": "object",
         "type": "string"
        },
        {
         "name": "zipcode",
         "rawType": "object",
         "type": "string"
        },
        {
         "name": "income",
         "rawType": "object",
         "type": "string"
        },
        {
         "name": "goal",
         "rawType": "float64",
         "type": "float"
        },
        {
         "name": "date",
         "rawType": "float64",
         "type": "float"
        },
        {
         "name": "go_out",
         "rawType": "float64",
         "type": "float"
        },
        {
         "name": "career",
         "rawType": "object",
         "type": "string"
        },
        {
         "name": "career_c",
         "rawType": "float64",
         "type": "float"
        },
        {
         "name": "sports",
         "rawType": "float64",
         "type": "float"
        },
        {
         "name": "tvsports",
         "rawType": "float64",
         "type": "float"
        },
        {
         "name": "exercise",
         "rawType": "float64",
         "type": "float"
        },
        {
         "name": "dining",
         "rawType": "float64",
         "type": "float"
        },
        {
         "name": "museums",
         "rawType": "float64",
         "type": "float"
        },
        {
         "name": "art",
         "rawType": "float64",
         "type": "float"
        },
        {
         "name": "hiking",
         "rawType": "float64",
         "type": "float"
        },
        {
         "name": "gaming",
         "rawType": "float64",
         "type": "float"
        },
        {
         "name": "clubbing",
         "rawType": "float64",
         "type": "float"
        },
        {
         "name": "reading",
         "rawType": "float64",
         "type": "float"
        },
        {
         "name": "tv",
         "rawType": "float64",
         "type": "float"
        },
        {
         "name": "theater",
         "rawType": "float64",
         "type": "float"
        },
        {
         "name": "movies",
         "rawType": "float64",
         "type": "float"
        },
        {
         "name": "concerts",
         "rawType": "float64",
         "type": "float"
        },
        {
         "name": "music",
         "rawType": "float64",
         "type": "float"
        },
        {
         "name": "shopping",
         "rawType": "float64",
         "type": "float"
        },
        {
         "name": "yoga",
         "rawType": "float64",
         "type": "float"
        },
        {
         "name": "exphappy",
         "rawType": "float64",
         "type": "float"
        },
        {
         "name": "expnum",
         "rawType": "float64",
         "type": "float"
        },
        {
         "name": "attr1_1",
         "rawType": "float64",
         "type": "float"
        },
        {
         "name": "sinc1_1",
         "rawType": "float64",
         "type": "float"
        },
        {
         "name": "intel1_1",
         "rawType": "float64",
         "type": "float"
        },
        {
         "name": "fun1_1",
         "rawType": "float64",
         "type": "float"
        },
        {
         "name": "amb1_1",
         "rawType": "float64",
         "type": "float"
        },
        {
         "name": "shar1_1",
         "rawType": "float64",
         "type": "float"
        },
        {
         "name": "attr4_1",
         "rawType": "float64",
         "type": "float"
        },
        {
         "name": "sinc4_1",
         "rawType": "float64",
         "type": "float"
        },
        {
         "name": "intel4_1",
         "rawType": "float64",
         "type": "float"
        },
        {
         "name": "fun4_1",
         "rawType": "float64",
         "type": "float"
        },
        {
         "name": "amb4_1",
         "rawType": "float64",
         "type": "float"
        },
        {
         "name": "shar4_1",
         "rawType": "float64",
         "type": "float"
        },
        {
         "name": "attr2_1",
         "rawType": "float64",
         "type": "float"
        },
        {
         "name": "sinc2_1",
         "rawType": "float64",
         "type": "float"
        },
        {
         "name": "intel2_1",
         "rawType": "float64",
         "type": "float"
        },
        {
         "name": "fun2_1",
         "rawType": "float64",
         "type": "float"
        },
        {
         "name": "amb2_1",
         "rawType": "float64",
         "type": "float"
        },
        {
         "name": "shar2_1",
         "rawType": "float64",
         "type": "float"
        },
        {
         "name": "attr3_1",
         "rawType": "float64",
         "type": "float"
        },
        {
         "name": "sinc3_1",
         "rawType": "float64",
         "type": "float"
        },
        {
         "name": "fun3_1",
         "rawType": "float64",
         "type": "float"
        },
        {
         "name": "intel3_1",
         "rawType": "float64",
         "type": "float"
        },
        {
         "name": "amb3_1",
         "rawType": "float64",
         "type": "float"
        },
        {
         "name": "attr5_1",
         "rawType": "float64",
         "type": "float"
        },
        {
         "name": "sinc5_1",
         "rawType": "float64",
         "type": "float"
        },
        {
         "name": "intel5_1",
         "rawType": "float64",
         "type": "float"
        },
        {
         "name": "fun5_1",
         "rawType": "float64",
         "type": "float"
        },
        {
         "name": "amb5_1",
         "rawType": "float64",
         "type": "float"
        },
        {
         "name": "dec",
         "rawType": "int64",
         "type": "integer"
        },
        {
         "name": "attr",
         "rawType": "float64",
         "type": "float"
        },
        {
         "name": "sinc",
         "rawType": "float64",
         "type": "float"
        },
        {
         "name": "intel",
         "rawType": "float64",
         "type": "float"
        },
        {
         "name": "fun",
         "rawType": "float64",
         "type": "float"
        },
        {
         "name": "amb",
         "rawType": "float64",
         "type": "float"
        },
        {
         "name": "shar",
         "rawType": "float64",
         "type": "float"
        },
        {
         "name": "like",
         "rawType": "float64",
         "type": "float"
        },
        {
         "name": "prob",
         "rawType": "float64",
         "type": "float"
        },
        {
         "name": "met",
         "rawType": "float64",
         "type": "float"
        },
        {
         "name": "match_es",
         "rawType": "float64",
         "type": "float"
        },
        {
         "name": "attr1_s",
         "rawType": "float64",
         "type": "float"
        },
        {
         "name": "sinc1_s",
         "rawType": "float64",
         "type": "float"
        },
        {
         "name": "intel1_s",
         "rawType": "float64",
         "type": "float"
        },
        {
         "name": "fun1_s",
         "rawType": "float64",
         "type": "float"
        },
        {
         "name": "amb1_s",
         "rawType": "float64",
         "type": "float"
        },
        {
         "name": "shar1_s",
         "rawType": "float64",
         "type": "float"
        },
        {
         "name": "attr3_s",
         "rawType": "float64",
         "type": "float"
        },
        {
         "name": "sinc3_s",
         "rawType": "float64",
         "type": "float"
        },
        {
         "name": "intel3_s",
         "rawType": "float64",
         "type": "float"
        },
        {
         "name": "fun3_s",
         "rawType": "float64",
         "type": "float"
        },
        {
         "name": "amb3_s",
         "rawType": "float64",
         "type": "float"
        },
        {
         "name": "satis_2",
         "rawType": "float64",
         "type": "float"
        },
        {
         "name": "length",
         "rawType": "float64",
         "type": "float"
        },
        {
         "name": "numdat_2",
         "rawType": "float64",
         "type": "float"
        },
        {
         "name": "attr7_2",
         "rawType": "float64",
         "type": "float"
        },
        {
         "name": "sinc7_2",
         "rawType": "float64",
         "type": "float"
        },
        {
         "name": "intel7_2",
         "rawType": "float64",
         "type": "float"
        },
        {
         "name": "fun7_2",
         "rawType": "float64",
         "type": "float"
        },
        {
         "name": "amb7_2",
         "rawType": "float64",
         "type": "float"
        },
        {
         "name": "shar7_2",
         "rawType": "float64",
         "type": "float"
        },
        {
         "name": "attr1_2",
         "rawType": "float64",
         "type": "float"
        },
        {
         "name": "sinc1_2",
         "rawType": "float64",
         "type": "float"
        },
        {
         "name": "intel1_2",
         "rawType": "float64",
         "type": "float"
        },
        {
         "name": "fun1_2",
         "rawType": "float64",
         "type": "float"
        },
        {
         "name": "amb1_2",
         "rawType": "float64",
         "type": "float"
        },
        {
         "name": "shar1_2",
         "rawType": "float64",
         "type": "float"
        },
        {
         "name": "attr4_2",
         "rawType": "float64",
         "type": "float"
        },
        {
         "name": "sinc4_2",
         "rawType": "float64",
         "type": "float"
        },
        {
         "name": "intel4_2",
         "rawType": "float64",
         "type": "float"
        },
        {
         "name": "fun4_2",
         "rawType": "float64",
         "type": "float"
        },
        {
         "name": "amb4_2",
         "rawType": "float64",
         "type": "float"
        },
        {
         "name": "shar4_2",
         "rawType": "float64",
         "type": "float"
        },
        {
         "name": "attr2_2",
         "rawType": "float64",
         "type": "float"
        },
        {
         "name": "sinc2_2",
         "rawType": "float64",
         "type": "float"
        },
        {
         "name": "intel2_2",
         "rawType": "float64",
         "type": "float"
        },
        {
         "name": "fun2_2",
         "rawType": "float64",
         "type": "float"
        },
        {
         "name": "amb2_2",
         "rawType": "float64",
         "type": "float"
        },
        {
         "name": "shar2_2",
         "rawType": "float64",
         "type": "float"
        },
        {
         "name": "attr3_2",
         "rawType": "float64",
         "type": "float"
        },
        {
         "name": "sinc3_2",
         "rawType": "float64",
         "type": "float"
        },
        {
         "name": "intel3_2",
         "rawType": "float64",
         "type": "float"
        },
        {
         "name": "fun3_2",
         "rawType": "float64",
         "type": "float"
        },
        {
         "name": "amb3_2",
         "rawType": "float64",
         "type": "float"
        },
        {
         "name": "attr5_2",
         "rawType": "float64",
         "type": "float"
        },
        {
         "name": "sinc5_2",
         "rawType": "float64",
         "type": "float"
        },
        {
         "name": "intel5_2",
         "rawType": "float64",
         "type": "float"
        },
        {
         "name": "fun5_2",
         "rawType": "float64",
         "type": "float"
        },
        {
         "name": "amb5_2",
         "rawType": "float64",
         "type": "float"
        },
        {
         "name": "you_call",
         "rawType": "float64",
         "type": "float"
        },
        {
         "name": "them_cal",
         "rawType": "float64",
         "type": "float"
        },
        {
         "name": "date_3",
         "rawType": "float64",
         "type": "float"
        },
        {
         "name": "numdat_3",
         "rawType": "float64",
         "type": "float"
        },
        {
         "name": "num_in_3",
         "rawType": "float64",
         "type": "float"
        },
        {
         "name": "attr1_3",
         "rawType": "float64",
         "type": "float"
        },
        {
         "name": "sinc1_3",
         "rawType": "float64",
         "type": "float"
        },
        {
         "name": "intel1_3",
         "rawType": "float64",
         "type": "float"
        },
        {
         "name": "fun1_3",
         "rawType": "float64",
         "type": "float"
        },
        {
         "name": "amb1_3",
         "rawType": "float64",
         "type": "float"
        },
        {
         "name": "shar1_3",
         "rawType": "float64",
         "type": "float"
        },
        {
         "name": "attr7_3",
         "rawType": "float64",
         "type": "float"
        },
        {
         "name": "sinc7_3",
         "rawType": "float64",
         "type": "float"
        },
        {
         "name": "intel7_3",
         "rawType": "float64",
         "type": "float"
        },
        {
         "name": "fun7_3",
         "rawType": "float64",
         "type": "float"
        },
        {
         "name": "amb7_3",
         "rawType": "float64",
         "type": "float"
        },
        {
         "name": "shar7_3",
         "rawType": "float64",
         "type": "float"
        },
        {
         "name": "attr4_3",
         "rawType": "float64",
         "type": "float"
        },
        {
         "name": "sinc4_3",
         "rawType": "float64",
         "type": "float"
        },
        {
         "name": "intel4_3",
         "rawType": "float64",
         "type": "float"
        },
        {
         "name": "fun4_3",
         "rawType": "float64",
         "type": "float"
        },
        {
         "name": "amb4_3",
         "rawType": "float64",
         "type": "float"
        },
        {
         "name": "shar4_3",
         "rawType": "float64",
         "type": "float"
        },
        {
         "name": "attr2_3",
         "rawType": "float64",
         "type": "float"
        },
        {
         "name": "sinc2_3",
         "rawType": "float64",
         "type": "float"
        },
        {
         "name": "intel2_3",
         "rawType": "float64",
         "type": "float"
        },
        {
         "name": "fun2_3",
         "rawType": "float64",
         "type": "float"
        },
        {
         "name": "amb2_3",
         "rawType": "float64",
         "type": "float"
        },
        {
         "name": "shar2_3",
         "rawType": "float64",
         "type": "float"
        },
        {
         "name": "attr3_3",
         "rawType": "float64",
         "type": "float"
        },
        {
         "name": "sinc3_3",
         "rawType": "float64",
         "type": "float"
        },
        {
         "name": "intel3_3",
         "rawType": "float64",
         "type": "float"
        },
        {
         "name": "fun3_3",
         "rawType": "float64",
         "type": "float"
        },
        {
         "name": "amb3_3",
         "rawType": "float64",
         "type": "float"
        },
        {
         "name": "attr5_3",
         "rawType": "float64",
         "type": "float"
        },
        {
         "name": "sinc5_3",
         "rawType": "float64",
         "type": "float"
        },
        {
         "name": "intel5_3",
         "rawType": "float64",
         "type": "float"
        },
        {
         "name": "fun5_3",
         "rawType": "float64",
         "type": "float"
        },
        {
         "name": "amb5_3",
         "rawType": "float64",
         "type": "float"
        }
       ],
       "conversionMethod": "pd.DataFrame",
       "ref": "cd44cef7-e073-49a5-8760-ae6a28e784e1",
       "rows": [
        [
         "0",
         "1",
         "1.0",
         "0",
         "1",
         "1",
         "1",
         "10",
         "7",
         null,
         "4",
         "1",
         "11.0",
         "0",
         "0.14",
         "0",
         "27.0",
         "2.0",
         "35.0",
         "20.0",
         "20.0",
         "20.0",
         "0.0",
         "5.0",
         "0",
         "6.0",
         "8.0",
         "8.0",
         "8.0",
         "8.0",
         "6.0",
         "7.0",
         "4.0",
         "2.0",
         "21.0",
         "Law",
         "1.0",
         null,
         null,
         null,
         "4.0",
         "2.0",
         "4.0",
         "Chicago",
         "60,521",
         "69,487.00",
         "2.0",
         "7.0",
         "1.0",
         "lawyer",
         null,
         "9.0",
         "2.0",
         "8.0",
         "9.0",
         "1.0",
         "1.0",
         "5.0",
         "1.0",
         "5.0",
         "6.0",
         "9.0",
         "1.0",
         "10.0",
         "10.0",
         "9.0",
         "8.0",
         "1.0",
         "3.0",
         "2.0",
         "15.0",
         "20.0",
         "20.0",
         "15.0",
         "15.0",
         "15.0",
         null,
         null,
         null,
         null,
         null,
         null,
         "35.0",
         "20.0",
         "15.0",
         "20.0",
         "5.0",
         "5.0",
         "6.0",
         "8.0",
         "8.0",
         "8.0",
         "7.0",
         null,
         null,
         null,
         null,
         null,
         "1",
         "6.0",
         "9.0",
         "7.0",
         "7.0",
         "6.0",
         "5.0",
         "7.0",
         "6.0",
         "2.0",
         "4.0",
         null,
         null,
         null,
         null,
         null,
         null,
         null,
         null,
         null,
         null,
         null,
         "6.0",
         "2.0",
         "1.0",
         null,
         null,
         null,
         null,
         null,
         null,
         "19.44",
         "16.67",
         "13.89",
         "22.22",
         "11.11",
         "16.67",
         null,
         null,
         null,
         null,
         null,
         null,
         null,
         null,
         null,
         null,
         null,
         null,
         "6.0",
         "7.0",
         "8.0",
         "7.0",
         "6.0",
         null,
         null,
         null,
         null,
         null,
         "1.0",
         "1.0",
         "0.0",
         null,
         null,
         "15.0",
         "20.0",
         "20.0",
         "15.0",
         "15.0",
         "15.0",
         null,
         null,
         null,
         null,
         null,
         null,
         null,
         null,
         null,
         null,
         null,
         null,
         null,
         null,
         null,
         null,
         null,
         null,
         "5.0",
         "7.0",
         "7.0",
         "7.0",
         "7.0",
         null,
         null,
         null,
         null,
         null
        ],
        [
         "1",
         "1",
         "1.0",
         "0",
         "1",
         "1",
         "1",
         "10",
         "7",
         null,
         "3",
         "2",
         "12.0",
         "0",
         "0.54",
         "0",
         "22.0",
         "2.0",
         "60.0",
         "0.0",
         "0.0",
         "40.0",
         "0.0",
         "0.0",
         "0",
         "7.0",
         "8.0",
         "10.0",
         "7.0",
         "7.0",
         "5.0",
         "8.0",
         "4.0",
         "2.0",
         "21.0",
         "Law",
         "1.0",
         null,
         null,
         null,
         "4.0",
         "2.0",
         "4.0",
         "Chicago",
         "60,521",
         "69,487.00",
         "2.0",
         "7.0",
         "1.0",
         "lawyer",
         null,
         "9.0",
         "2.0",
         "8.0",
         "9.0",
         "1.0",
         "1.0",
         "5.0",
         "1.0",
         "5.0",
         "6.0",
         "9.0",
         "1.0",
         "10.0",
         "10.0",
         "9.0",
         "8.0",
         "1.0",
         "3.0",
         "2.0",
         "15.0",
         "20.0",
         "20.0",
         "15.0",
         "15.0",
         "15.0",
         null,
         null,
         null,
         null,
         null,
         null,
         "35.0",
         "20.0",
         "15.0",
         "20.0",
         "5.0",
         "5.0",
         "6.0",
         "8.0",
         "8.0",
         "8.0",
         "7.0",
         null,
         null,
         null,
         null,
         null,
         "1",
         "7.0",
         "8.0",
         "7.0",
         "8.0",
         "5.0",
         "6.0",
         "7.0",
         "5.0",
         "1.0",
         "4.0",
         null,
         null,
         null,
         null,
         null,
         null,
         null,
         null,
         null,
         null,
         null,
         "6.0",
         "2.0",
         "1.0",
         null,
         null,
         null,
         null,
         null,
         null,
         "19.44",
         "16.67",
         "13.89",
         "22.22",
         "11.11",
         "16.67",
         null,
         null,
         null,
         null,
         null,
         null,
         null,
         null,
         null,
         null,
         null,
         null,
         "6.0",
         "7.0",
         "8.0",
         "7.0",
         "6.0",
         null,
         null,
         null,
         null,
         null,
         "1.0",
         "1.0",
         "0.0",
         null,
         null,
         "15.0",
         "20.0",
         "20.0",
         "15.0",
         "15.0",
         "15.0",
         null,
         null,
         null,
         null,
         null,
         null,
         null,
         null,
         null,
         null,
         null,
         null,
         null,
         null,
         null,
         null,
         null,
         null,
         "5.0",
         "7.0",
         "7.0",
         "7.0",
         "7.0",
         null,
         null,
         null,
         null,
         null
        ],
        [
         "2",
         "1",
         "1.0",
         "0",
         "1",
         "1",
         "1",
         "10",
         "7",
         null,
         "10",
         "3",
         "13.0",
         "1",
         "0.16",
         "1",
         "22.0",
         "4.0",
         "19.0",
         "18.0",
         "19.0",
         "18.0",
         "14.0",
         "12.0",
         "1",
         "10.0",
         "10.0",
         "10.0",
         "10.0",
         "10.0",
         "10.0",
         "10.0",
         "10.0",
         "1.0",
         "21.0",
         "Law",
         "1.0",
         null,
         null,
         null,
         "4.0",
         "2.0",
         "4.0",
         "Chicago",
         "60,521",
         "69,487.00",
         "2.0",
         "7.0",
         "1.0",
         "lawyer",
         null,
         "9.0",
         "2.0",
         "8.0",
         "9.0",
         "1.0",
         "1.0",
         "5.0",
         "1.0",
         "5.0",
         "6.0",
         "9.0",
         "1.0",
         "10.0",
         "10.0",
         "9.0",
         "8.0",
         "1.0",
         "3.0",
         "2.0",
         "15.0",
         "20.0",
         "20.0",
         "15.0",
         "15.0",
         "15.0",
         null,
         null,
         null,
         null,
         null,
         null,
         "35.0",
         "20.0",
         "15.0",
         "20.0",
         "5.0",
         "5.0",
         "6.0",
         "8.0",
         "8.0",
         "8.0",
         "7.0",
         null,
         null,
         null,
         null,
         null,
         "1",
         "5.0",
         "8.0",
         "9.0",
         "8.0",
         "5.0",
         "7.0",
         "7.0",
         null,
         "1.0",
         "4.0",
         null,
         null,
         null,
         null,
         null,
         null,
         null,
         null,
         null,
         null,
         null,
         "6.0",
         "2.0",
         "1.0",
         null,
         null,
         null,
         null,
         null,
         null,
         "19.44",
         "16.67",
         "13.89",
         "22.22",
         "11.11",
         "16.67",
         null,
         null,
         null,
         null,
         null,
         null,
         null,
         null,
         null,
         null,
         null,
         null,
         "6.0",
         "7.0",
         "8.0",
         "7.0",
         "6.0",
         null,
         null,
         null,
         null,
         null,
         "1.0",
         "1.0",
         "0.0",
         null,
         null,
         "15.0",
         "20.0",
         "20.0",
         "15.0",
         "15.0",
         "15.0",
         null,
         null,
         null,
         null,
         null,
         null,
         null,
         null,
         null,
         null,
         null,
         null,
         null,
         null,
         null,
         null,
         null,
         null,
         "5.0",
         "7.0",
         "7.0",
         "7.0",
         "7.0",
         null,
         null,
         null,
         null,
         null
        ],
        [
         "3",
         "1",
         "1.0",
         "0",
         "1",
         "1",
         "1",
         "10",
         "7",
         null,
         "5",
         "4",
         "14.0",
         "1",
         "0.61",
         "0",
         "23.0",
         "2.0",
         "30.0",
         "5.0",
         "15.0",
         "40.0",
         "5.0",
         "5.0",
         "1",
         "7.0",
         "8.0",
         "9.0",
         "8.0",
         "9.0",
         "8.0",
         "7.0",
         "7.0",
         "2.0",
         "21.0",
         "Law",
         "1.0",
         null,
         null,
         null,
         "4.0",
         "2.0",
         "4.0",
         "Chicago",
         "60,521",
         "69,487.00",
         "2.0",
         "7.0",
         "1.0",
         "lawyer",
         null,
         "9.0",
         "2.0",
         "8.0",
         "9.0",
         "1.0",
         "1.0",
         "5.0",
         "1.0",
         "5.0",
         "6.0",
         "9.0",
         "1.0",
         "10.0",
         "10.0",
         "9.0",
         "8.0",
         "1.0",
         "3.0",
         "2.0",
         "15.0",
         "20.0",
         "20.0",
         "15.0",
         "15.0",
         "15.0",
         null,
         null,
         null,
         null,
         null,
         null,
         "35.0",
         "20.0",
         "15.0",
         "20.0",
         "5.0",
         "5.0",
         "6.0",
         "8.0",
         "8.0",
         "8.0",
         "7.0",
         null,
         null,
         null,
         null,
         null,
         "1",
         "7.0",
         "6.0",
         "8.0",
         "7.0",
         "6.0",
         "8.0",
         "7.0",
         "6.0",
         "2.0",
         "4.0",
         null,
         null,
         null,
         null,
         null,
         null,
         null,
         null,
         null,
         null,
         null,
         "6.0",
         "2.0",
         "1.0",
         null,
         null,
         null,
         null,
         null,
         null,
         "19.44",
         "16.67",
         "13.89",
         "22.22",
         "11.11",
         "16.67",
         null,
         null,
         null,
         null,
         null,
         null,
         null,
         null,
         null,
         null,
         null,
         null,
         "6.0",
         "7.0",
         "8.0",
         "7.0",
         "6.0",
         null,
         null,
         null,
         null,
         null,
         "1.0",
         "1.0",
         "0.0",
         null,
         null,
         "15.0",
         "20.0",
         "20.0",
         "15.0",
         "15.0",
         "15.0",
         null,
         null,
         null,
         null,
         null,
         null,
         null,
         null,
         null,
         null,
         null,
         null,
         null,
         null,
         null,
         null,
         null,
         null,
         "5.0",
         "7.0",
         "7.0",
         "7.0",
         "7.0",
         null,
         null,
         null,
         null,
         null
        ],
        [
         "4",
         "1",
         "1.0",
         "0",
         "1",
         "1",
         "1",
         "10",
         "7",
         null,
         "7",
         "5",
         "15.0",
         "1",
         "0.21",
         "0",
         "24.0",
         "3.0",
         "30.0",
         "10.0",
         "20.0",
         "10.0",
         "10.0",
         "20.0",
         "1",
         "8.0",
         "7.0",
         "9.0",
         "6.0",
         "9.0",
         "7.0",
         "8.0",
         "6.0",
         "2.0",
         "21.0",
         "Law",
         "1.0",
         null,
         null,
         null,
         "4.0",
         "2.0",
         "4.0",
         "Chicago",
         "60,521",
         "69,487.00",
         "2.0",
         "7.0",
         "1.0",
         "lawyer",
         null,
         "9.0",
         "2.0",
         "8.0",
         "9.0",
         "1.0",
         "1.0",
         "5.0",
         "1.0",
         "5.0",
         "6.0",
         "9.0",
         "1.0",
         "10.0",
         "10.0",
         "9.0",
         "8.0",
         "1.0",
         "3.0",
         "2.0",
         "15.0",
         "20.0",
         "20.0",
         "15.0",
         "15.0",
         "15.0",
         null,
         null,
         null,
         null,
         null,
         null,
         "35.0",
         "20.0",
         "15.0",
         "20.0",
         "5.0",
         "5.0",
         "6.0",
         "8.0",
         "8.0",
         "8.0",
         "7.0",
         null,
         null,
         null,
         null,
         null,
         "1",
         "5.0",
         "6.0",
         "7.0",
         "7.0",
         "6.0",
         "6.0",
         "6.0",
         "6.0",
         "2.0",
         "4.0",
         null,
         null,
         null,
         null,
         null,
         null,
         null,
         null,
         null,
         null,
         null,
         "6.0",
         "2.0",
         "1.0",
         null,
         null,
         null,
         null,
         null,
         null,
         "19.44",
         "16.67",
         "13.89",
         "22.22",
         "11.11",
         "16.67",
         null,
         null,
         null,
         null,
         null,
         null,
         null,
         null,
         null,
         null,
         null,
         null,
         "6.0",
         "7.0",
         "8.0",
         "7.0",
         "6.0",
         null,
         null,
         null,
         null,
         null,
         "1.0",
         "1.0",
         "0.0",
         null,
         null,
         "15.0",
         "20.0",
         "20.0",
         "15.0",
         "15.0",
         "15.0",
         null,
         null,
         null,
         null,
         null,
         null,
         null,
         null,
         null,
         null,
         null,
         null,
         null,
         null,
         null,
         null,
         null,
         null,
         "5.0",
         "7.0",
         "7.0",
         "7.0",
         "7.0",
         null,
         null,
         null,
         null,
         null
        ]
       ],
       "shape": {
        "columns": 195,
        "rows": 5
       }
      },
      "text/html": [
       "<div>\n",
       "<style scoped>\n",
       "    .dataframe tbody tr th:only-of-type {\n",
       "        vertical-align: middle;\n",
       "    }\n",
       "\n",
       "    .dataframe tbody tr th {\n",
       "        vertical-align: top;\n",
       "    }\n",
       "\n",
       "    .dataframe thead th {\n",
       "        text-align: right;\n",
       "    }\n",
       "</style>\n",
       "<table border=\"1\" class=\"dataframe\">\n",
       "  <thead>\n",
       "    <tr style=\"text-align: right;\">\n",
       "      <th></th>\n",
       "      <th>iid</th>\n",
       "      <th>id</th>\n",
       "      <th>gender</th>\n",
       "      <th>idg</th>\n",
       "      <th>condtn</th>\n",
       "      <th>wave</th>\n",
       "      <th>round</th>\n",
       "      <th>position</th>\n",
       "      <th>positin1</th>\n",
       "      <th>order</th>\n",
       "      <th>...</th>\n",
       "      <th>attr3_3</th>\n",
       "      <th>sinc3_3</th>\n",
       "      <th>intel3_3</th>\n",
       "      <th>fun3_3</th>\n",
       "      <th>amb3_3</th>\n",
       "      <th>attr5_3</th>\n",
       "      <th>sinc5_3</th>\n",
       "      <th>intel5_3</th>\n",
       "      <th>fun5_3</th>\n",
       "      <th>amb5_3</th>\n",
       "    </tr>\n",
       "  </thead>\n",
       "  <tbody>\n",
       "    <tr>\n",
       "      <th>0</th>\n",
       "      <td>1</td>\n",
       "      <td>1.0</td>\n",
       "      <td>0</td>\n",
       "      <td>1</td>\n",
       "      <td>1</td>\n",
       "      <td>1</td>\n",
       "      <td>10</td>\n",
       "      <td>7</td>\n",
       "      <td>NaN</td>\n",
       "      <td>4</td>\n",
       "      <td>...</td>\n",
       "      <td>5.0</td>\n",
       "      <td>7.0</td>\n",
       "      <td>7.0</td>\n",
       "      <td>7.0</td>\n",
       "      <td>7.0</td>\n",
       "      <td>NaN</td>\n",
       "      <td>NaN</td>\n",
       "      <td>NaN</td>\n",
       "      <td>NaN</td>\n",
       "      <td>NaN</td>\n",
       "    </tr>\n",
       "    <tr>\n",
       "      <th>1</th>\n",
       "      <td>1</td>\n",
       "      <td>1.0</td>\n",
       "      <td>0</td>\n",
       "      <td>1</td>\n",
       "      <td>1</td>\n",
       "      <td>1</td>\n",
       "      <td>10</td>\n",
       "      <td>7</td>\n",
       "      <td>NaN</td>\n",
       "      <td>3</td>\n",
       "      <td>...</td>\n",
       "      <td>5.0</td>\n",
       "      <td>7.0</td>\n",
       "      <td>7.0</td>\n",
       "      <td>7.0</td>\n",
       "      <td>7.0</td>\n",
       "      <td>NaN</td>\n",
       "      <td>NaN</td>\n",
       "      <td>NaN</td>\n",
       "      <td>NaN</td>\n",
       "      <td>NaN</td>\n",
       "    </tr>\n",
       "    <tr>\n",
       "      <th>2</th>\n",
       "      <td>1</td>\n",
       "      <td>1.0</td>\n",
       "      <td>0</td>\n",
       "      <td>1</td>\n",
       "      <td>1</td>\n",
       "      <td>1</td>\n",
       "      <td>10</td>\n",
       "      <td>7</td>\n",
       "      <td>NaN</td>\n",
       "      <td>10</td>\n",
       "      <td>...</td>\n",
       "      <td>5.0</td>\n",
       "      <td>7.0</td>\n",
       "      <td>7.0</td>\n",
       "      <td>7.0</td>\n",
       "      <td>7.0</td>\n",
       "      <td>NaN</td>\n",
       "      <td>NaN</td>\n",
       "      <td>NaN</td>\n",
       "      <td>NaN</td>\n",
       "      <td>NaN</td>\n",
       "    </tr>\n",
       "    <tr>\n",
       "      <th>3</th>\n",
       "      <td>1</td>\n",
       "      <td>1.0</td>\n",
       "      <td>0</td>\n",
       "      <td>1</td>\n",
       "      <td>1</td>\n",
       "      <td>1</td>\n",
       "      <td>10</td>\n",
       "      <td>7</td>\n",
       "      <td>NaN</td>\n",
       "      <td>5</td>\n",
       "      <td>...</td>\n",
       "      <td>5.0</td>\n",
       "      <td>7.0</td>\n",
       "      <td>7.0</td>\n",
       "      <td>7.0</td>\n",
       "      <td>7.0</td>\n",
       "      <td>NaN</td>\n",
       "      <td>NaN</td>\n",
       "      <td>NaN</td>\n",
       "      <td>NaN</td>\n",
       "      <td>NaN</td>\n",
       "    </tr>\n",
       "    <tr>\n",
       "      <th>4</th>\n",
       "      <td>1</td>\n",
       "      <td>1.0</td>\n",
       "      <td>0</td>\n",
       "      <td>1</td>\n",
       "      <td>1</td>\n",
       "      <td>1</td>\n",
       "      <td>10</td>\n",
       "      <td>7</td>\n",
       "      <td>NaN</td>\n",
       "      <td>7</td>\n",
       "      <td>...</td>\n",
       "      <td>5.0</td>\n",
       "      <td>7.0</td>\n",
       "      <td>7.0</td>\n",
       "      <td>7.0</td>\n",
       "      <td>7.0</td>\n",
       "      <td>NaN</td>\n",
       "      <td>NaN</td>\n",
       "      <td>NaN</td>\n",
       "      <td>NaN</td>\n",
       "      <td>NaN</td>\n",
       "    </tr>\n",
       "  </tbody>\n",
       "</table>\n",
       "<p>5 rows × 195 columns</p>\n",
       "</div>"
      ],
      "text/plain": [
       "   iid   id  gender  idg  condtn  wave  round  position  positin1  order  ...  \\\n",
       "0    1  1.0       0    1       1     1     10         7       NaN      4  ...   \n",
       "1    1  1.0       0    1       1     1     10         7       NaN      3  ...   \n",
       "2    1  1.0       0    1       1     1     10         7       NaN     10  ...   \n",
       "3    1  1.0       0    1       1     1     10         7       NaN      5  ...   \n",
       "4    1  1.0       0    1       1     1     10         7       NaN      7  ...   \n",
       "\n",
       "   attr3_3  sinc3_3  intel3_3  fun3_3  amb3_3  attr5_3  sinc5_3  intel5_3  \\\n",
       "0      5.0      7.0       7.0     7.0     7.0      NaN      NaN       NaN   \n",
       "1      5.0      7.0       7.0     7.0     7.0      NaN      NaN       NaN   \n",
       "2      5.0      7.0       7.0     7.0     7.0      NaN      NaN       NaN   \n",
       "3      5.0      7.0       7.0     7.0     7.0      NaN      NaN       NaN   \n",
       "4      5.0      7.0       7.0     7.0     7.0      NaN      NaN       NaN   \n",
       "\n",
       "   fun5_3  amb5_3  \n",
       "0     NaN     NaN  \n",
       "1     NaN     NaN  \n",
       "2     NaN     NaN  \n",
       "3     NaN     NaN  \n",
       "4     NaN     NaN  \n",
       "\n",
       "[5 rows x 195 columns]"
      ]
     },
     "execution_count": 17,
     "metadata": {},
     "output_type": "execute_result"
    }
   ],
   "source": [
    "# Importation des bibliothèques nécessaires\n",
    "import pandas as pd\n",
    "import numpy as np\n",
    "import matplotlib.pyplot as plt\n",
    "import seaborn as sns\n",
    "import scipy.stats as stats\n",
    "from sklearn.model_selection import train_test_split\n",
    "from sklearn.preprocessing import StandardScaler\n",
    "from sklearn.linear_model import LogisticRegression\n",
    "from sklearn.metrics import confusion_matrix, ConfusionMatrixDisplay\n",
    "\n",
    "# Charger le dataset\n",
    "dataset_path = \"Speed+Dating+Data.csv\"  # Adapter le chemin si nécessaire\n",
    "df = pd.read_csv(dataset_path, encoding=\"latin1\")\n",
    "\n",
    "# Aperçu des premières lignes\n",
    "df.info()\n",
    "df.head()"
   ]
  },
  {
   "cell_type": "code",
   "execution_count": 18,
   "id": "3ae79645",
   "metadata": {},
   "outputs": [
    {
     "data": {
      "text/plain": [
       "num_in_3    7710\n",
       "numdat_3    6882\n",
       "expnum      6578\n",
       "sinc7_2     6423\n",
       "amb7_2      6423\n",
       "shar7_2     6404\n",
       "attr7_2     6394\n",
       "intel7_2    6394\n",
       "fun7_2      6394\n",
       "amb5_3      6362\n",
       "sinc7_3     6362\n",
       "intel7_3    6362\n",
       "fun7_3      6362\n",
       "amb7_3      6362\n",
       "shar7_3     6362\n",
       "attr7_3     6362\n",
       "fun5_3      6362\n",
       "intel5_3    6362\n",
       "sinc5_3     6362\n",
       "attr5_3     6362\n",
       "dtype: int64"
      ]
     },
     "execution_count": 18,
     "metadata": {},
     "output_type": "execute_result"
    }
   ],
   "source": [
    "# Analyse des valeurs manquantes\n",
    "missing_values = df.isnull().sum()\n",
    "missing_values = missing_values[missing_values > 0].sort_values(ascending=False)\n",
    "\n",
    "# Affichage des variables avec le plus de valeurs manquantes\n",
    "missing_values.head(20)"
   ]
  },
  {
   "cell_type": "code",
   "execution_count": 19,
   "id": "d783b38f",
   "metadata": {},
   "outputs": [
    {
     "data": {
      "text/plain": [
       "8858"
      ]
     },
     "execution_count": 19,
     "metadata": {},
     "output_type": "execute_result"
    }
   ],
   "source": [
    "# Suppression des colonnes avec plus de 50% de valeurs manquantes\n",
    "threshold = len(df) * 0.5\n",
    "df_cleaned = df.dropna(thresh=threshold, axis=1).copy()\n",
    "\n",
    "# Remplissage des valeurs manquantes restantes par la médiane (si numérique)\n",
    "for col in df_cleaned.select_dtypes(include=['float64', 'int64']).columns:\n",
    "    df_cleaned.loc[:, col] = df_cleaned[col].fillna(df_cleaned[col].median())\n",
    "\n",
    "# Vérification après nettoyage\n",
    "df_cleaned.isnull().sum().sum()  # Nombre total de valeurs manquantes après traitement\n"
   ]
  },
  {
   "cell_type": "code",
   "execution_count": 20,
   "id": "d528ad94",
   "metadata": {},
   "outputs": [
    {
     "name": "stderr",
     "output_type": "stream",
     "text": [
      "/opt/anaconda3/envs/mon_env/lib/python3.10/site-packages/seaborn/_oldcore.py:1119: FutureWarning: use_inf_as_na option is deprecated and will be removed in a future version. Convert inf values to NaN before operating instead.\n",
      "  with pd.option_context('mode.use_inf_as_na', True):\n"
     ]
    },
    {
     "data": {
      "image/png": "[encoded data removed]",
      "text/plain": [
       "<Figure size 1000x500 with 1 Axes>"
      ]
     },
     "metadata": {},
     "output_type": "display_data"
    }
   ],
   "source": [
    "# Visualisation de la distribution de l'âge des participants\n",
    "plt.figure(figsize=(10, 5))\n",
    "sns.histplot(df['age'].dropna(), bins=20, kde=True)\n",
    "plt.title(\"Distribution de l'âge des participants\")\n",
    "plt.xlabel(\"Âge\")\n",
    "plt.ylabel(\"Fréquence\")\n",
    "plt.show()"
   ]
  },
  {
   "cell_type": "code",
   "execution_count": 21,
   "id": "4704a194",
   "metadata": {},
   "outputs": [
    {
     "data": {
      "image/png": "[encoded data removed]",
      "text/plain": [
       "<Figure size 600x600 with 1 Axes>"
      ]
     },
     "metadata": {},
     "output_type": "display_data"
    }
   ],
   "source": [
    "# Répartition hommes/femmes\n",
    "plt.figure(figsize=(6, 6))\n",
    "sns.countplot(x=df['gender'], palette=[\"lightcoral\", \"skyblue\"])\n",
    "plt.xticks([0, 1], [\"Femmes\", \"Hommes\"])\n",
    "plt.title(\"Répartition hommes/femmes\")\n",
    "plt.show()"
   ]
  },
  {
   "cell_type": "code",
   "execution_count": 22,
   "id": "9388a300",
   "metadata": {},
   "outputs": [
    {
     "data": {
      "image/png": "[encoded data removed]",
      "text/plain": [
       "<Figure size 800x600 with 2 Axes>"
      ]
     },
     "metadata": {},
     "output_type": "display_data"
    }
   ],
   "source": [
    "# Influence des critères sur le match (corrélations)\n",
    "criteria = ['attr_o', 'sinc_o', 'intel_o', 'fun_o', 'amb_o']\n",
    "df_corr = df[criteria + ['match']].corr()\n",
    "\n",
    "plt.figure(figsize=(8, 6))\n",
    "sns.heatmap(df_corr, annot=True, cmap=\"coolwarm\", fmt=\".2f\", linewidths=0.5)\n",
    "plt.title(\"Corrélation entre les critères et le match\")\n",
    "plt.show()"
   ]
  },
  {
   "cell_type": "code",
   "execution_count": 23,
   "id": "9a2f6755",
   "metadata": {},
   "outputs": [
    {
     "name": "stdout",
     "output_type": "stream",
     "text": [
      "Corrélation âge-match: -0.035055140403132734\n",
      "p-valeur: 0.0014182931569076277\n"
     ]
    }
   ],
   "source": [
    "# Tester la corrélation entre l'âge et le fait d'obtenir un match\n",
    "df_filtered = df[[\"age\", \"match\"]].dropna()\n",
    "age_match_corr, age_match_pval = stats.pearsonr(df_filtered[\"age\"], df_filtered[\"match\"])\n",
    "\n",
    "print(\"Corrélation âge-match:\", age_match_corr)\n",
    "print(\"p-valeur:\", age_match_pval)"
   ]
  },
  {
   "cell_type": "code",
   "execution_count": 24,
   "id": "2644bebb",
   "metadata": {},
   "outputs": [
    {
     "name": "stdout",
     "output_type": "stream",
     "text": [
      "Test du Chi² genre-match: Statistique = 0.0003633509204105355\n",
      "p-valeur = 0.9847918322511705\n"
     ]
    }
   ],
   "source": [
    "# Test du Chi² entre le genre et le match\n",
    "contingency_table = pd.crosstab(df[\"gender\"], df[\"match\"])\n",
    "chi2_stat, chi2_pval, _, _ = stats.chi2_contingency(contingency_table)\n",
    "\n",
    "print(\"Test du Chi² genre-match: Statistique =\", chi2_stat)\n",
    "print(\"p-valeur =\", chi2_pval)"
   ]
  },
  {
   "cell_type": "code",
   "execution_count": 25,
   "id": "7bfa2fe9",
   "metadata": {},
   "outputs": [],
   "source": [
    "# Sélection des variables explicatives et préparation des données\n",
    "features = [\"age\", \"attr_o\", \"sinc_o\", \"intel_o\", \"fun_o\", \"amb_o\"]\n",
    "df_model = df[features + [\"match\"]].dropna()\n",
    "\n",
    "# Normalisation des features\n",
    "scaler = StandardScaler()\n",
    "X = scaler.fit_transform(df_model[features])\n",
    "y = df_model[\"match\"]\n",
    "\n",
    "# Séparation en train/test\n",
    "X_train, X_test, y_train, y_test = train_test_split(X, y, test_size=0.2, random_state=42)"
   ]
  },
  {
   "cell_type": "code",
   "execution_count": 26,
   "id": "7cc82dae",
   "metadata": {},
   "outputs": [
    {
     "name": "stdout",
     "output_type": "stream",
     "text": [
      "Score entraînement: 0.8263122701437646\n",
      "Score test: 0.8262032085561497\n"
     ]
    }
   ],
   "source": [
    "# Entraînement du modèle de régression logistique\n",
    "log_reg = LogisticRegression()\n",
    "log_reg.fit(X_train, y_train)\n",
    "\n",
    "# Précision du modèle\n",
    "train_score = log_reg.score(X_train, y_train)\n",
    "test_score = log_reg.score(X_test, y_test)\n",
    "\n",
    "print(\"Score entraînement:\", train_score)\n",
    "print(\"Score test:\", test_score)"
   ]
  },
  {
   "cell_type": "code",
   "execution_count": 27,
   "id": "f421dfde",
   "metadata": {},
   "outputs": [
    {
     "data": {
      "image/png": "[encoded data removed]",
      "text/plain": [
       "<Figure size 1000x500 with 1 Axes>"
      ]
     },
     "metadata": {},
     "output_type": "display_data"
    }
   ],
   "source": [
    "# Importance des critères dans la prédiction des matchs\n",
    "coef_df = pd.DataFrame({\n",
    "    \"Critère\": features,\n",
    "    \"Coefficient\": log_reg.coef_[0]\n",
    "}).sort_values(by=\"Coefficient\", ascending=False)\n",
    "\n",
    "plt.figure(figsize=(10, 5))\n",
    "sns.barplot(x=\"Coefficient\", y=\"Critère\", data=coef_df, palette=\"coolwarm\")\n",
    "plt.title(\"Importance des critères dans la prédiction des matchs\")\n",
    "plt.xlabel(\"Coefficient de la régression logistique\")\n",
    "plt.ylabel(\"Critère évalué\")\n",
    "plt.show()"
   ]
  },
  {
   "cell_type": "code",
   "execution_count": 28,
   "id": "46be5b31",
   "metadata": {},
   "outputs": [
    {
     "data": {
      "image/png": "[encoded data removed]",
      "text/plain": [
       "<Figure size 1000x500 with 1 Axes>"
      ]
     },
     "metadata": {},
     "output_type": "display_data"
    }
   ],
   "source": [
    "# Visualisation de la relation entre l'âge et la probabilité de match prédite\n",
    "df_model[\"probabilité_match\"] = log_reg.predict_proba(X)[:, 1]\n",
    "\n",
    "plt.figure(figsize=(10, 5))\n",
    "sns.scatterplot(x=df_model[\"age\"], y=df_model[\"probabilité_match\"], alpha=0.5)\n",
    "plt.xlabel(\"Âge\")\n",
    "plt.ylabel(\"Probabilité prédite d'obtenir un match\")\n",
    "plt.title(\"Influence de l'âge sur la probabilité prédite d'un match\")\n",
    "plt.show()"
   ]
  },
  {
   "cell_type": "code",
   "execution_count": 29,
   "id": "6f03c02e",
   "metadata": {},
   "outputs": [
    {
     "data": {
      "text/plain": [
       "<Figure size 600x600 with 0 Axes>"
      ]
     },
     "metadata": {},
     "output_type": "display_data"
    },
    {
     "data": {
      "image/png": "[encoded data removed]",
      "text/plain": [
       "<Figure size 640x480 with 2 Axes>"
      ]
     },
     "metadata": {},
     "output_type": "display_data"
    }
   ],
   "source": [
    "# Matrice de confusion pour voir la performance du modèle\n",
    "y_pred = log_reg.predict(X_test)\n",
    "cm = confusion_matrix(y_test, y_pred)\n",
    "disp = ConfusionMatrixDisplay(confusion_matrix=cm, display_labels=[\"Pas de Match\", \"Match\"])\n",
    "\n",
    "plt.figure(figsize=(6, 6))\n",
    "disp.plot(cmap=\"Blues\", values_format=\"d\")\n",
    "plt.title(\"Matrice de confusion du modèle de prédiction des matchs\")\n",
    "plt.show()"
   ]
  }
 ],
 "metadata": {
  "kernelspec": {
   "display_name": "mon_env",
   "language": "python",
   "name": "python3"
  },
  "language_info": {
   "codemirror_mode": {
    "name": "ipython",
    "version": 3
   },
   "file_extension": ".py",
   "mimetype": "text/x-python",
   "name": "python",
   "nbconvert_exporter": "python",
   "pygments_lexer": "ipython3",
   "version": "3.10.16"
  }
 },
 "nbformat": 4,
 "nbformat_minor": 5
}
